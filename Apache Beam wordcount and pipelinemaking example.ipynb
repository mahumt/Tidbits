{
 "cells": [
  {
   "cell_type": "code",
   "execution_count": null,
   "metadata": {},
   "outputs": [],
   "source": [
    "#pip install apache-beam\n",
    "#Make sure you have python 2.\n",
    "#https://github.com/apache/beam/blob/master/sdks/python/apache_beam/examples/wordcount_minimal.py#L116"
   ]
  },
  {
   "cell_type": "code",
   "execution_count": 1,
   "metadata": {},
   "outputs": [],
   "source": [
    "from __future__ import absolute_import\n",
    "\n",
    "import argparse\n",
    "import logging\n",
    "import re\n",
    "from past.builtins import unicode\n",
    "\n",
    "import apache_beam as beam\n",
    "from apache_beam.io import ReadFromText\n",
    "from apache_beam.io import WriteToText\n",
    "import apache_beam.transforms.window as window\n",
    "from apache_beam.examples.wordcount import WordExtractingDoFn\n",
    "from apache_beam.options.pipeline_options import PipelineOptions\n",
    "from apache_beam.options.pipeline_options import SetupOptions\n",
    "from apache_beam.options.pipeline_options import StandardOptions"
   ]
  },
  {
   "cell_type": "code",
   "execution_count": 6,
   "metadata": {},
   "outputs": [],
   "source": [
    "def run(argv=None): #Main entry point; defines and runs the wordcount pipeline\n",
    "    parser = argparse.ArgumentParser()    \n",
    "    parser.add_argument('--input',\n",
    "                      dest='input',                      \n",
    "                      default='data/kinglear.txt',\n",
    "                      help='Input file to process.')\n",
    "    parser.add_argument('--output',\n",
    "                      dest='output',\n",
    "                      default='data/output.txt', # for outputting the results\n",
    "                      help='Output file to write results to.')\n",
    "    known_args, pipeline_args = parser.parse_known_args(argv)\n",
    "    pipeline_args.extend(['--runner=DirectRunner',\n",
    "                              '--project=PROJECTID',\n",
    "                              '--staging_location=gs://YOUR_BUCKET_NAME/AND_STAGING_DIRECTORY',\n",
    "                              '--temp_location=gs://YOUR_BUCKET_NAME/AND_TEMP_DIRECTORY',\n",
    "                              '--job_name=your-wordcount-job',])\n",
    "    # We use the save_main_session option because one or more DoFn's in this workflow rely on global context \n",
    "    # (e.g., a module imported at module level).\n",
    "    pipeline_options = PipelineOptions(pipeline_args)\n",
    "    pipeline_options.view_as(SetupOptions).save_main_session = True\n",
    "    pipeline_options.view_as(StandardOptions).streaming = True    \n",
    "    with beam.Pipeline(options=pipeline_options) as p:\n",
    "        lines = p | ReadFromText(known_args.input) # Read the text file[pattern] into a PCollection.\n",
    "        counts = (  # Count the occurrences of each word.\n",
    "            lines | 'Split' >> (beam.FlatMap(lambda x: re.findall(r'[A-Za-z\\']+', x)).with_output_types(unicode))\n",
    "            | 'PairWithOne' >> beam.Map(lambda x: (x, 1))\n",
    "            | 'GroupAndSum' >> beam.CombinePerKey(sum))"
   ]
  },
  {
   "cell_type": "code",
   "execution_count": 7,
   "metadata": {},
   "outputs": [],
   "source": [
    "# Format the counts into a PCollection of strings.\n",
    "def format_result(word_count):\n",
    "    (word, count) = word_count\n",
    "    return '%s: %s' % (word, count)\n",
    "    output = counts | 'Format' >> beam.Map(format_result)\n",
    "    # Write the output using a \"Write\" transform that has side effects.\n",
    "    # pylint: disable=expression-not-assigned\n",
    "    output | WriteToText(known_args.output)"
   ]
  },
  {
   "cell_type": "code",
   "execution_count": 8,
   "metadata": {},
   "outputs": [
    {
     "name": "stderr",
     "output_type": "stream",
     "text": [
      "INFO:root:==================== <function annotate_downstream_side_inputs at 0x0000000008DFAEB8> ====================\n",
      "INFO:root:==================== <function fix_side_input_pcoll_coders at 0x0000000008DFAF28> ====================\n",
      "INFO:root:==================== <function lift_combiners at 0x0000000008E05048> ====================\n",
      "INFO:root:==================== <function expand_gbk at 0x0000000008DEC978> ====================\n",
      "INFO:root:==================== <function sink_flattens at 0x0000000008DFAF98> ====================\n",
      "INFO:root:==================== <function greedily_fuse at 0x0000000008DFADD8> ====================\n",
      "INFO:root:==================== <function sort_stages at 0x0000000008DFAE48> ====================\n",
      "INFO:root:Running ((ref_AppliedPTransform_ReadFromText/Read_3)+((ref_AppliedPTransform_Split_4)+((ref_AppliedPTransform_PairWithOne_5)+(GroupAndSum/Precombine))))+(GroupAndSum/Group/Write)\n",
      "INFO:root:start <DataOutputOperation GroupAndSum/Group/Write >\n",
      "INFO:root:start <PGBKCVOperation GroupAndSum/Precombine >\n",
      "INFO:root:start <DoOperation PairWithOne output_tags=['out']>\n",
      "INFO:root:start <DoOperation Split output_tags=['out']>\n",
      "INFO:root:start <ReadOperation ReadFromText/Read source=SourceBundle(weight=1.0, source=<apache_beam.io.textio._TextSource object at 0x0000000008EE2EB8>, start_position=None, stop_position=None)>\n",
      "INFO:root:finish <ReadOperation ReadFromText/Read source=SourceBundle(weight=1.0, source=<apache_beam.io.textio._TextSource object at 0x0000000008EE2EB8>, start_position=None, stop_position=None), receivers=[ConsumerSet[ReadFromText/Read.out0, coder=WindowedValueCoder[FastPrimitivesCoder], len(consumers)=1]]>\n",
      "INFO:root:finish <DoOperation Split output_tags=['out'], receivers=[ConsumerSet[Split.out0, coder=WindowedValueCoder[StrUtf8Coder], len(consumers)=1]]>\n",
      "INFO:root:finish <DoOperation PairWithOne output_tags=['out'], receivers=[ConsumerSet[PairWithOne.out0, coder=WindowedValueCoder[TupleCoder[StrUtf8Coder, VarIntCoder]], len(consumers)=1]]>\n",
      "INFO:root:finish <PGBKCVOperation GroupAndSum/Precombine receivers=[ConsumerSet[GroupAndSum/Precombine.out0, coder=WindowedValueCoder[TupleCoder[LengthPrefixCoder[StrUtf8Coder], LengthPrefixCoder[FastPrimitivesCoder]]], len(consumers)=1]]>\n",
      "INFO:root:finish <DataOutputOperation GroupAndSum/Group/Write >\n",
      "INFO:root:Running ((GroupAndSum/Group/Read)+(GroupAndSum/Merge))+(GroupAndSum/ExtractOutputs)\n",
      "INFO:root:start <CombineOperation GroupAndSum/ExtractOutputs phase=extract>\n",
      "INFO:root:start <CombineOperation GroupAndSum/Merge phase=merge>\n",
      "INFO:root:start <DataInputOperation GroupAndSum/Group/Read receivers=[ConsumerSet[GroupAndSum/Group/Read.out0, coder=WindowedValueCoder[TupleCoder[LengthPrefixCoder[StrUtf8Coder], IterableCoder[LengthPrefixCoder[FastPrimitivesCoder]]]], len(consumers)=1]]>\n",
      "INFO:root:finish <DataInputOperation GroupAndSum/Group/Read receivers=[ConsumerSet[GroupAndSum/Group/Read.out0, coder=WindowedValueCoder[TupleCoder[LengthPrefixCoder[StrUtf8Coder], IterableCoder[LengthPrefixCoder[FastPrimitivesCoder]]]], len(consumers)=1]]>\n",
      "INFO:root:finish <CombineOperation GroupAndSum/Merge phase=merge, receivers=[ConsumerSet[GroupAndSum/Merge.out0, coder=WindowedValueCoder[TupleCoder[StrUtf8Coder, FastPrimitivesCoder]], len(consumers)=1]]>\n",
      "INFO:root:finish <CombineOperation GroupAndSum/ExtractOutputs phase=extract, receivers=[ConsumerSet[GroupAndSum/ExtractOutputs.out0, coder=WindowedValueCoder[FastPrimitivesCoder], len(consumers)=0]]>\n"
     ]
    }
   ],
   "source": [
    "if __name__ == '__main__':\n",
    "    logging.getLogger().setLevel(logging.INFO)\n",
    "    run()"
   ]
  },
  {
   "cell_type": "code",
   "execution_count": 40,
   "metadata": {},
   "outputs": [],
   "source": [
    "import pandas as pd\n",
    "Test= pd.read_csv('data/beam-temp-output.txt-2c48bfe120b711e99b0474e6e20db312\\\\549f2477-f9da-487d-9b45-d6a5f85a4f90.output.txt')"
   ]
  },
  {
   "cell_type": "code",
   "execution_count": 41,
   "metadata": {},
   "outputs": [
    {
     "name": "stdout",
     "output_type": "stream",
     "text": [
      "               Appear: 1\n",
      "0              pardon: 6\n",
      "1           justicers: 1\n",
      "2          ungovern'd: 1\n",
      "3              vermin: 1\n",
      "4             needful: 2\n",
      "5               foul: 15\n",
      "6                four: 1\n",
      "7               hath: 52\n",
      "8             protest: 1\n",
      "9             nursery: 1\n",
      "10              sleep: 8\n",
      "11            hanging: 1\n",
      "12          conjuring: 1\n",
      "13            garters: 1\n",
      "14           appetite: 2\n",
      "15               use: 14\n",
      "16               hate: 5\n",
      "17              Until: 2\n",
      "18           marching: 1\n",
      "19              Plate: 1\n",
      "20                gad: 1\n",
      "21               Obey: 1\n",
      "22              Thou: 47\n",
      "23            poorest: 2\n",
      "24            starv'd: 1\n",
      "25            Enforce: 1\n",
      "26               His: 18\n",
      "27          Vengeance: 1\n",
      "28           mutinies: 1\n",
      "29              under: 9\n",
      "...                  ...\n",
      "4870             star: 3\n",
      "4871             Like: 3\n",
      "4872         respects: 1\n",
      "4873       oppression: 1\n",
      "4874        dismantle: 1\n",
      "4875        frustrate: 1\n",
      "4876           numb'd: 1\n",
      "4877           chance: 5\n",
      "4878          peasant: 2\n",
      "4879           ground: 2\n",
      "4880         Steward: 10\n",
      "4881             Lose: 1\n",
      "4882            else: 10\n",
      "4883          friends: 8\n",
      "4884            cliff: 2\n",
      "4885           chalky: 1\n",
      "4886           devour: 1\n",
      "4887            ranks: 1\n",
      "4888    entertainment: 1\n",
      "4889            jewel: 1\n",
      "4890      comfortless: 1\n",
      "4891          entreat: 6\n",
      "4892            dog's: 1\n",
      "4893  perpendicularly: 1\n",
      "4894          pension: 1\n",
      "4895       villainous: 1\n",
      "4896            awake: 2\n",
      "4897           defend: 5\n",
      "4898         bereaved: 1\n",
      "4899             buoy: 1\n",
      "\n",
      "[4900 rows x 1 columns]\n"
     ]
    }
   ],
   "source": [
    "Test.head()"
   ]
  }
 ],
 "metadata": {
  "kernelspec": {
   "display_name": "py27",
   "language": "python",
   "name": "py27"
  },
  "language_info": {
   "codemirror_mode": {
    "name": "ipython",
    "version": 2
   },
   "file_extension": ".py",
   "mimetype": "text/x-python",
   "name": "python",
   "nbconvert_exporter": "python",
   "pygments_lexer": "ipython2",
   "version": "2.7.15"
  }
 },
 "nbformat": 4,
 "nbformat_minor": 2
}
